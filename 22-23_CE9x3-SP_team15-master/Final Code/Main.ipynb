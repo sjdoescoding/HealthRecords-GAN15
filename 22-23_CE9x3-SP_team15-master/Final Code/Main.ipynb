{
 "cells": [
  {
   "cell_type": "code",
   "execution_count": null,
   "metadata": {},
   "outputs": [],
   "source": [
    "from Main import train, generate_samples\n",
    "import pandas as pd\n",
    "import matplotlib.pyplot as plt\n",
    "from table_evaluator import TableEvaluator"
   ]
  },
  {
   "cell_type": "markdown",
   "metadata": {},
   "source": [
    "Training"
   ]
  },
  {
   "cell_type": "code",
   "execution_count": null,
   "metadata": {},
   "outputs": [],
   "source": [
    "# Reading the real unpreprocesd data.\n",
    "\n",
    "file_name = 'diabetic_data.csv'\n",
    "real_data = pd.read_csv(file_name)\n",
    "real_data = real_data.iloc[:,2:]\n",
    "\n",
    "# Calling the Train Function\n",
    "\n",
    "'''\n",
    "    train function has 6 argumnets:\n",
    "\n",
    "    train(real_dataset, epochs, learning_rate, batch_size, save_model, model_name)\n",
    "\n",
    "    As 1st argument you have to give your real unpreprocesed dataset.\n",
    "    2nd, 3rd and 4th arguments are epochs, learning rate, batch size respectiviely.\n",
    "    5th Argument is an optional argument, if set True then the function will save the model with the same name as you have specified in the 6th argument.\n",
    "    6th argument is also an optional argumnet which is actually the name of the model you want to save.\n",
    "'''\n",
    "\n",
    "'''\n",
    "    When your 5th argumet is set True, the function will save 3 files:\n",
    "\n",
    "        1)- The trained model. extension will be (.h5)\n",
    "        2)- The min max saclling file named as (scalling.pkl)\n",
    "        3)- The featues file, which contains the column names, and some unique features. named as (features.pkl)\n",
    "'''\n",
    "\n",
    "hist, real, fake = train(real_data, 4000, 0.001, 32, save_model=True, model_name='Team_15')\n",
    "\n",
    "plt.plot(hist[\"d_loss\"], label=\"Discriminator Loss\")\n",
    "plt.plot(hist[\"g_loss\"], label=\"Generator Loss\")\n",
    "plt.legend()\n",
    "plt.show()"
   ]
  },
  {
   "cell_type": "code",
   "execution_count": null,
   "metadata": {},
   "outputs": [],
   "source": [
    "table_evaluator = TableEvaluator(real, fake)\n",
    "\n",
    "table_evaluator.visual_evaluation()"
   ]
  },
  {
   "cell_type": "markdown",
   "metadata": {},
   "source": [
    "Loading the saved model and generating samples."
   ]
  },
  {
   "cell_type": "code",
   "execution_count": null,
   "metadata": {},
   "outputs": [],
   "source": [
    "'''\n",
    "    generator function has 2 arguments:\n",
    "\n",
    "    generate_sample(trained_model, features_file, number_of _samples)\n",
    "\n",
    "    As first argument you have to give the name of trained model file.\n",
    "    2nd is the number of samples you want to generate.\n",
    "\n",
    "'''\n",
    "samp = generate_samples('Team_15', 1000)\n",
    "samp"
   ]
  }
 ],
 "metadata": {
  "kernelspec": {
   "display_name": "Python 3.10.6 64-bit",
   "language": "python",
   "name": "python3"
  },
  "language_info": {
   "codemirror_mode": {
    "name": "ipython",
    "version": 3
   },
   "file_extension": ".py",
   "mimetype": "text/x-python",
   "name": "python",
   "nbconvert_exporter": "python",
   "pygments_lexer": "ipython3",
   "version": "3.10.6"
  },
  "orig_nbformat": 4,
  "vscode": {
   "interpreter": {
    "hash": "916dbcbb3f70747c44a77c7bcd40155683ae19c65e1c03b4aa3499c5328201f1"
   }
  }
 },
 "nbformat": 4,
 "nbformat_minor": 2
}
