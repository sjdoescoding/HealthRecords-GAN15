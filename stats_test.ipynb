{
 "cells": [
  {
   "cell_type": "code",
   "execution_count": 2,
   "id": "239b0796",
   "metadata": {},
   "outputs": [],
   "source": [
    "import numpy as np\n",
    "import pandas as pd\n",
    "from scipy.stats import wasserstein_distance\n",
    "from scipy.special import kl_div\n",
    "from scipy.spatial.distance import jensenshannon"
   ]
  },
  {
   "cell_type": "code",
   "execution_count": 6,
   "id": "a8ab75d6",
   "metadata": {},
   "outputs": [],
   "source": [
    "# original dataset\n",
    "real_data = pd.read_csv(\"processed_edit.csv\", delimiter=\",\", header=None)\n",
    "# synthetic dataset\n",
    "fake_data = pd.read_csv(\"synthetic_edit.csv\", delimiter=\",\", header=None)"
   ]
  },
  {
   "cell_type": "code",
   "execution_count": 7,
   "id": "4cc40bf9",
   "metadata": {},
   "outputs": [],
   "source": [
    "# randomly select 100000 rows from the dataset\n",
    "real_data = real_data.sample(n=100000, random_state=42)"
   ]
  },
  {
   "cell_type": "code",
   "execution_count": 8,
   "id": "ea4dfcc6",
   "metadata": {},
   "outputs": [
    {
     "data": {
      "text/plain": [
       "((100000, 48), (100000, 48))"
      ]
     },
     "execution_count": 8,
     "metadata": {},
     "output_type": "execute_result"
    }
   ],
   "source": [
    "real_data.shape, fake_data.shape"
   ]
  },
  {
   "cell_type": "code",
   "execution_count": 9,
   "id": "583af882",
   "metadata": {},
   "outputs": [],
   "source": [
    "data1 = real_data.values\n",
    "data2 = fake_data.values"
   ]
  },
  {
   "cell_type": "code",
   "execution_count": 10,
   "id": "75e0e984",
   "metadata": {},
   "outputs": [
    {
     "name": "stdout",
     "output_type": "stream",
     "text": [
      "Wasserstein distance between the datasets: 0.313742916666666\n"
     ]
    }
   ],
   "source": [
    "# calculate the Wasserstein distance between the datasets\n",
    "w_distance = wasserstein_distance(data1.ravel(), data2.ravel())\n",
    "print(\"Wasserstein distance between the datasets:\", w_distance)"
   ]
  },
  {
   "cell_type": "code",
   "execution_count": 11,
   "id": "b8ec98db",
   "metadata": {},
   "outputs": [
    {
     "name": "stdout",
     "output_type": "stream",
     "text": [
      "Jensen-Shannon Divergence=0.4934290311704681\n"
     ]
    }
   ],
   "source": [
    "js_divergence = jensenshannon(data1.ravel(), data2.ravel())\n",
    "print(\"Jensen-Shannon Divergence={}\".format(js_divergence))"
   ]
  },
  {
   "cell_type": "code",
   "execution_count": null,
   "id": "d3668f5e",
   "metadata": {},
   "outputs": [],
   "source": []
  }
 ],
 "metadata": {
  "kernelspec": {
   "display_name": "Python 3 (ipykernel)",
   "language": "python",
   "name": "python3"
  },
  "language_info": {
   "codemirror_mode": {
    "name": "ipython",
    "version": 3
   },
   "file_extension": ".py",
   "mimetype": "text/x-python",
   "name": "python",
   "nbconvert_exporter": "python",
   "pygments_lexer": "ipython3",
   "version": "3.9.13"
  }
 },
 "nbformat": 4,
 "nbformat_minor": 5
}
